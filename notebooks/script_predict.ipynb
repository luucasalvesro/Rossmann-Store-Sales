{
 "cells": [
  {
   "cell_type": "code",
   "execution_count": 7,
   "metadata": {},
   "outputs": [
    {
     "name": "stdout",
     "output_type": "stream",
     "text": [
      "Loja número 646 irá vender R$5,051.41  nas próximas 6 semanas\n",
      "Loja número 823 irá vender R$7,709.86  nas próximas 6 semanas\n",
      "Loja número 983 irá vender R$4,074.91  nas próximas 6 semanas\n",
      "Loja número 1060 irá vender R$6,615.52  nas próximas 6 semanas\n"
     ]
    }
   ],
   "source": [
    "# Dados da loja\n",
    "import pandas as pd\n",
    "import json\n",
    "import requests\n",
    "\n",
    "data = {'Id': [27779,7606,14332,21357,30460], \n",
    "        'Store': [506,983,823,1060,646], \n",
    "        'DayOfWeek': [7,3,2,1,4], \n",
    "        'Date': ['2015-08-16','2015-09-09','2015-09-01','2015-08-24','2015-08-13'], \n",
    "        'Open': [0.0,1.0,1.0,1.0,1.0], \n",
    "        'Promo':[0,0,1,0,0], \n",
    "        'StateHoliday':[0,0,0,0,0],\n",
    "        'SchoolHoliday':[0,0,0,0,1]}\n",
    "data = pd.DataFrame(data)\n",
    "\n",
    "# Dados de teste\n",
    "data_raw = {'Store': [506,983,823,1060,646], \n",
    "            'StoreType': ['a','a','a','a','a'], \n",
    "            'Assortment': ['a','a','c','a','c'], \n",
    "            'CompetitionDistance': [220.0,620.0,16210.0,40.0,3430.0], \n",
    "            'CompetitionOpenSinceMonth':[2.0,9.0,11.0,3.0,float('NaN')], \n",
    "            'CompetitionOpenSinceYear':[2002.0,2014.0,2010.0,2014.0,float('NaN')],\n",
    "            'Promo2':[1,0,0,1,1],\n",
    "            'Promo2SinceWeek':[37.0,float('NaN'),float('NaN'),1.0,31.0],\n",
    "            'Promo2SinceYear':[2009.0,float('NaN'),float('NaN'),2014.0,2013.0],\n",
    "            'PromoInterval':['Jan,Apr,Jul,Oct',float('NaN'),float('NaN'),'Jan,Apr,Jul,Oct','Feb,May,Aug,Nov']}\n",
    "data_raw = pd.DataFrame(data_raw)\n",
    "\n",
    "# Merge dos dados de test + dados da loja\n",
    "df_test = pd.merge( data, data_raw, how='left', on = 'Store' )\n",
    "\n",
    "# Escolhendo loja para predição\n",
    "df_test = df_test[df_test['Store'].isin([506,983,823,1060,646])]\n",
    "\n",
    "# Removendo dias fechados\n",
    "df_test = df_test[df_test['Open'] != 0]\n",
    "df_test = df_test[~df_test['Open'].isnull()]\n",
    "df_test = df_test.drop( 'Id', axis=1 )\n",
    "\n",
    "# Passando dados para json\n",
    "data = json.dumps( df_test.to_dict( orient='records' ) )\n",
    "\n",
    "# Chamada da API\n",
    "#url = 'http://0.0.0.0:5000/rossmann/predict'\n",
    "url = 'https://rossmann-sales-predict-model.herokuapp.com/rossmann/predict'\n",
    "header = {'Content-type': 'application/json'}\n",
    "data = data\n",
    "r = requests.post( url, data=data, headers=header )\n",
    "#print( 'Status Code {}'.format( r.status_code ) )\n",
    "\n",
    "# Convertendo dados recebidos da API para pandas DataFrame\n",
    "d1 = pd.DataFrame( r.json(), columns = r.json()[0].keys() )\n",
    "\n",
    "# Agrupando lojas \n",
    "d2 = d1[['store', 'prediction']].groupby( 'store' ).sum().reset_index()\n",
    "\n",
    "for i in range( len(d2) ):\n",
    "    print( 'Loja número {} irá vender R${:,.2f}  nas próximas 6 semanas'.format(\n",
    "            d2.loc[i, 'store'],\n",
    "            d2.loc[i, 'prediction'] ) )"
   ]
  },
  {
   "cell_type": "code",
   "execution_count": null,
   "metadata": {},
   "outputs": [],
   "source": []
  }
 ],
 "metadata": {
  "kernelspec": {
   "display_name": "Python 3",
   "language": "python",
   "name": "python3"
  },
  "language_info": {
   "codemirror_mode": {
    "name": "ipython",
    "version": 3
   },
   "file_extension": ".py",
   "mimetype": "text/x-python",
   "name": "python",
   "nbconvert_exporter": "python",
   "pygments_lexer": "ipython3",
   "version": "3.8.3"
  }
 },
 "nbformat": 4,
 "nbformat_minor": 4
}
